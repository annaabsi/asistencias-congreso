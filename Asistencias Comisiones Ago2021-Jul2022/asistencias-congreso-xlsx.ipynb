{
 "cells": [
  {
   "cell_type": "code",
   "execution_count": 1,
   "metadata": {},
   "outputs": [],
   "source": [
    "import os\n",
    "import pandas as pd\n",
    "import numpy as np\n",
    "import warnings\n",
    "warnings.filterwarnings(\"ignore\", category=FutureWarning)"
   ]
  },
  {
   "cell_type": "code",
   "execution_count": 2,
   "metadata": {},
   "outputs": [],
   "source": [
    "path = os.getcwd()\n",
    "files = os.listdir(path)\n",
    "files_xlsx = [f for f in files if f[-4:] == 'xlsx']\n",
    "total_df = pd.DataFrame()"
   ]
  },
  {
   "cell_type": "code",
   "execution_count": 3,
   "metadata": {},
   "outputs": [],
   "source": [
    "#files con iloc en columna 1\n",
    "for f in files_xlsx:\n",
    "    try:\n",
    "        df = pd.read_excel(f)\n",
    "        #df.columns = ['0','1','2','3','4','5','6','7','8','9']\n",
    "        df[\"filtro\"] = np.nan\n",
    "        df[\"archivo\"] = f\n",
    "        df = df.replace('NaN', np.nan)\n",
    "        mask = df.iloc[:,1].str.contains('Congresistas|Hora', regex=True, na=True)\n",
    "        df.loc[mask, 'filtro'] = df.iloc[:,1]\n",
    "        df['filtro'] = df['filtro'].ffill()\n",
    "        df.loc[mask, 'filtro'] = np.nan\n",
    "        df = df[df['filtro'] == 'Congresistas']\n",
    "        total_df = total_df.append(df)\n",
    "        total_df.to_csv('../asistencias_parte1.csv')\n",
    "    except:\n",
    "        pass"
   ]
  },
  {
   "cell_type": "code",
   "execution_count": 4,
   "metadata": {},
   "outputs": [
    {
     "name": "stdout",
     "output_type": "stream",
     "text": [
      "Sesión Ordinaria N° 3 - 18-03-22.xlsx\n"
     ]
    }
   ],
   "source": [
    "#files con iloc en columna 2\n",
    "files_xlsx_0 = [\n",
    "    'Lista de Asistencia Sesión Ordinaria N° 15.xlsx',\n",
    "'5 SO-DJ ASISTENCIA CONGRESISTAS CA-06.10.21.xlsx',\n",
    "'Lista de Asistencia Sesión Ordinaria N° 10.xlsx',\n",
    "'Lista de Asistencia Sesión Extraordinaria N° 01.xlsx',\n",
    "'Asistencia - sesiòn ordinaria Nº 04 CIM fallecidos por las protestas.xlsx',\n",
    "'Asistencia - sesiòn ordinaria Nº 01 DEVIDA.xlsx',\n",
    "'9 SE-DJ ASISTENCIA CONGRESISTAS CA - 09.02.22.xlsx',\n",
    "'sesión ordinaria n 2 - 11-03-22.xlsx',\n",
    "'sesión ordinaria N° 4 - 01-04-22.xlsx',\n",
    "'16 SO-DJ ASISTENCIA CONGRESISTAS CA -27.04.22.xlsx',\n",
    "'Lista de Asistencia Sesión Ordinaria N° 12.xlsx',\n",
    "'Sesión Ordinaria N° 3 - 18-03-22.xlsx',\n",
    "'Lista de Asistencia Sesión Ordinaria N° 13.xlsx',\n",
    "'14 SE DJ ASISTENCIA CONGRESISTAS CA - 24.05.22.xlsx',\n",
    "'sesión ordinaria N° 5- 08-04-22.xlsx',\n",
    "'Asistencia sesiòn de inatalacion DEVIDA (1).xlsx',\n",
    "'Asistencia - Sesiòn Extraordinaria Nº 01 CIM fallecidos por las protestas 28 de junio.xlsx',\n",
    "'Lista de Asistencia Sesión Ordinaria N° 08 final.xlsx',\n",
    "'Lista de Asistencia Sesión Ordinaria N° 14.xlsx',\n",
    "'Lista de Asistencia Sesión Ordinaria N° 11.xlsx',\n",
    "'Lista de Asistencia Sesión Extraordinaria N° 5.xlsx',\n",
    "'Asistencia - sesiòn ordinaria Nº 02 DEVIDA.xlsx',\n",
    "'15 SO-DJ ASISTENCIA CONGRESISTAS CA -06.04.22.xlsx',\n",
    "'Lista de Asistencia Sesión Ordinaria N° 09.xlsx',\n",
    "'Asistencia - Tercera sesiòn ordinaria - 01-07-22 DEVIDA.xlsx',\n",
    "'sesión ordinaria n 2 - 11-03-22(1).xlsx',\n",
    "'Asistencia - sesiòn ordinaria Nº 02 CIM fallecidos por las protestas.xlsx',\n",
    "'Asistencia - Sesiòn Extraordinaria Nº 02 CIM fallecidos por las protestas 19 de julio.xlsx',\n",
    "'Asistencia - sesiòn ordinaria Nº 03 CIM fallecidos por las protestas.xlsx',\n",
    "'Sesiòn 01.. 19-11-2021comision investigadora minsa - essalud.xlsx',\n",
    "'Asistencia - sesiòn ordinaria Nº 01 CIM fallecidos por las protestas.xlsx',\n",
    "'Sesiòn 01 - 10-12 comision investigadora minsa - essalud.xlsx',\n",
    "'Asistencia - sesiòn ordinaria Nº 05 CIM fallecidos por las protestas.xlsx',\n",
    "'Lista de Asistencia Sesiòn 01 - 26-11 comision investigadora minsa - essalud.xlsx',\n",
    "'Asistencia - sesiòn ordinaria Nº 06 CIM fallecidos por las protestas.xlsx',\n",
    "]\n",
    "\n",
    "total_df_0 = pd.DataFrame()\n",
    "\n",
    "for f in files_xlsx_0:\n",
    "    try:\n",
    "        df = pd.read_excel(f)\n",
    "        #df.columns = ['0','1','2','3','4','5','6','7','8','9']\n",
    "        df[\"filtro\"] = np.nan\n",
    "        df[\"archivo\"] = f\n",
    "        df = df.replace('NaN', np.nan)\n",
    "        mask = df.iloc[:,2].str.contains('Congresistas|Hora', regex=True, na=True)\n",
    "        df.loc[mask, 'filtro'] = df.iloc[:,2]\n",
    "        df['filtro'] = df['filtro'].ffill()\n",
    "        df.loc[mask, 'filtro'] = np.nan\n",
    "        df = df[df['filtro'] == 'Congresistas']\n",
    "        total_df_0 = total_df_0.append(df)\n",
    "        total_df_0.to_csv('../asistencias_parte2.csv')\n",
    "    except:\n",
    "        print(f)"
   ]
  }
 ],
 "metadata": {
  "kernelspec": {
   "display_name": "Python 3.9.7 64-bit",
   "language": "python",
   "name": "python3"
  },
  "language_info": {
   "codemirror_mode": {
    "name": "ipython",
    "version": 3
   },
   "file_extension": ".py",
   "mimetype": "text/x-python",
   "name": "python",
   "nbconvert_exporter": "python",
   "pygments_lexer": "ipython3",
   "version": "3.9.7"
  },
  "orig_nbformat": 4,
  "vscode": {
   "interpreter": {
    "hash": "916dbcbb3f70747c44a77c7bcd40155683ae19c65e1c03b4aa3499c5328201f1"
   }
  }
 },
 "nbformat": 4,
 "nbformat_minor": 2
}
